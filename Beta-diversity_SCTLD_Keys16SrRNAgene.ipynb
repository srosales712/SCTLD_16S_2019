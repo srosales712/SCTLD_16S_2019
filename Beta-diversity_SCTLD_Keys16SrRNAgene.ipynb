{
 "cells": [
  {
   "cell_type": "code",
   "execution_count": null,
   "metadata": {
    "button": false,
    "new_sheet": false,
    "run_control": {
     "read_only": false
    }
   },
   "outputs": [],
   "source": [
    "#import R programs\n",
    "library(\"phyloseq\")\n",
    "library(\"vegan\")\n",
    "library(\"dplyr\")\n",
    "library(\"microbiome\") \n",
    "library(\"pairwiseAdonis\"); packageVersion(\"pairwiseAdonis\")"
   ]
  },
  {
   "cell_type": "code",
   "execution_count": null,
   "metadata": {
    "button": false,
    "new_sheet": false,
    "run_control": {
     "read_only": false
    }
   },
   "outputs": [],
   "source": [
    "#setworking directory\n",
    "setwd(\"\")"
   ]
  },
  {
   "cell_type": "code",
   "execution_count": null,
   "metadata": {
    "button": false,
    "new_sheet": false,
    "run_control": {
     "read_only": false
    }
   },
   "outputs": [],
   "source": [
    "#import files\n",
    "SV_T <- t(read.table(\"export_TL_T/table-BacArc_TL_TFill.txt\", \n",
    "                     row.names = 1, header = TRUE,\n",
    "                    stringsAsFactors =TRUE))\n",
    "dim(SV_T)\n",
    "\n",
    "SV_T_DLAB <- t(read.table(\"export_TL_T_DLAB/table-BacArc_TL_DLAB.txt\", \n",
    "                     row.names = 1, header = TRUE,\n",
    "                    stringsAsFactors =TRUE))\n",
    "\n",
    "SV_T_DSTOK <- t(read.table(\"export_TL_DSTOK/table-BacArc_TL_DSTOK.txt\", \n",
    "                     row.names = 1, header = TRUE,\n",
    "                    stringsAsFactors =TRUE))\n",
    "\n",
    "SV_T_SINT <- t(read.table(\"export_TL_SINT/table-BacArc_TL_SINT.txt\", \n",
    "                     row.names = 1, header = TRUE,\n",
    "                    stringsAsFactors =TRUE))\n",
    "SV_T_MMEA <- t(read.table(\"export_TL_MMEA/table-BacArc_TL_MMEA.txt\", \n",
    "                     row.names = 1, header = TRUE,\n",
    "                    stringsAsFactors =TRUE))\n",
    "\n",
    "SV_T_DLAB_AH <- t(read.table(\"export_TL_DLAB_AH/table-BacArc_TL_DLAB_AH.txt\", \n",
    "                     row.names = 1, header = TRUE,\n",
    "                    stringsAsFactors =TRUE))\n",
    "\n",
    "SV_T_DSTOK_AH <- t(read.table(\"export_TL_DSTOK_AH/table-BacArc_TL_DSTOK_AH.txt\", \n",
    "                     row.names = 1, header = TRUE,\n",
    "                    stringsAsFactors =TRUE))\n",
    "\n",
    "SV_T_SINT_AH <- t(read.table(\"export_TL_SINT_AH/table-BacArc_TL_SINT_AH.txt\", \n",
    "                     row.names = 1, header = TRUE,\n",
    "                    stringsAsFactors =TRUE))\n",
    "\n",
    "\n",
    "SV_S <- t(read.table(\"export_TL_S/table-BacArc_TL_SFill.txt\", \n",
    "                     row.names = 1, header = TRUE))\n",
    "dim(SV_S)\n",
    "\n",
    "SV_W <- t(read.table(\"export_TL_W/table-BacArc_TL_WFill.txt\", \n",
    "                     row.names = 1, header = TRUE))\n",
    "head(SV_W)\n",
    "\n",
    "\n",
    "\n",
    "\n",
    "\n",
    "map<- read.table(\"metadata_TL16S.txt\", \n",
    "                 row.names = 1, header = TRUE)\n",
    "head(map)\n",
    "\n",
    "## to import taxonomy I had to convert ; into tabs and remove last columns\n",
    "tax <-as.matrix(read.table(\"exported_TL/taxonomy.tsv\",  \n",
    "                           row.names = 1, header = FALSE, sep = \"\\t\"))\n",
    "#head(tax)\n",
    "tree_file <-read_tree(\"exported_TL/tree.nwk\")\n",
    "#head(tree_file)\n",
    "\n",
    "colnames(tax) <- c (\"Kingdom\", \"Phylum\", \"Class\", \"Order\", \"Family\", \"Genus\", \"Species\", \"asv\", \"label\")\n",
    "tax[tax==\"\"] <- NA\n",
    "head(tax)\n",
    "dim(tax)\n"
   ]
  },
  {
   "cell_type": "code",
   "execution_count": null,
   "metadata": {
    "button": false,
    "new_sheet": false,
    "run_control": {
     "read_only": false
    }
   },
   "outputs": [],
   "source": [
    "#Convert files into phyloseq objects\n",
    "\n",
    "#import tissue samples\n",
    "ps_T = phyloseq(otu_table(SV_T, taxa_are_rows=FALSE), \n",
    "               sample_data(map), \n",
    "               tax_table(tax))\n",
    "ps_T\n",
    "\n",
    "\n",
    "ps_T_DLAB=phyloseq(otu_table(SV_T_DLAB, taxa_are_rows=FALSE), \n",
    "               sample_data(map), \n",
    "               tax_table(tax))\n",
    "ps_T_DLAB\n",
    "\n",
    "ps_T_DSTOK=phyloseq(otu_table(SV_T_DSTOK, taxa_are_rows=FALSE), \n",
    "               sample_data(map), \n",
    "               tax_table(tax))\n",
    "ps_T_DSTOK\n",
    "\n",
    "ps_T_SINT=phyloseq(otu_table(SV_T_SINT, taxa_are_rows=FALSE), \n",
    "               sample_data(map), \n",
    "               tax_table(tax))\n",
    "ps_T_SINT\n",
    "\n",
    "\n",
    "ps_T_OP_MMEA=phyloseq(otu_table(SV_T_MMEA, taxa_are_rows=FALSE), \n",
    "               sample_data(map), \n",
    "               tax_table(tax))\n",
    "ps_T_OP_MMEA\n",
    "\n",
    "#import AH tissue samples\n",
    "ps_T_AH_DLAB=phyloseq(otu_table(SV_T_DLAB_AH, taxa_are_rows=FALSE), \n",
    "               sample_data(map), \n",
    "               tax_table(tax))\n",
    "ps_T_AH_DLAB\n",
    "\n",
    "ps_T_AH_DSTOK=phyloseq(otu_table(SV_T_DSTOK_AH, taxa_are_rows=FALSE), \n",
    "               sample_data(map), \n",
    "               tax_table(tax))\n",
    "ps_T_AH_DSTOK\n",
    "\n",
    "ps_T_AH_SINT=phyloseq(otu_table(SV_T_SINT_AH, taxa_are_rows=FALSE), \n",
    "               sample_data(map), \n",
    "               tax_table(tax))\n",
    "ps_T_AH_SINT\n",
    "\n",
    "#import sediment samples\n",
    "\n",
    "ps_S = phyloseq(otu_table(SV_S, taxa_are_rows=FALSE), \n",
    "               sample_data(map), \n",
    "               tax_table(tax))\n",
    "ps_S\n",
    "\n",
    "#import water samples\n",
    "ps_W = phyloseq(otu_table(SV_W, taxa_are_rows=FALSE), \n",
    "               sample_data(map), \n",
    "               tax_table(tax))\n",
    "ps_W"
   ]
  },
  {
   "cell_type": "code",
   "execution_count": null,
   "metadata": {},
   "outputs": [],
   "source": [
    "#subset water samples from LooeKey collections\n",
    "ps_W_OR =subset_samples(ps_W, Experiment==\"original\")\n",
    "ps_W_OR\n",
    "\n",
    "ps_W_OP =subset_samples(ps_W, Experiment==\"oppurtunistic\")\n",
    "ps_W_OP"
   ]
  },
  {
   "cell_type": "code",
   "execution_count": null,
   "metadata": {},
   "outputs": [],
   "source": [
    "#subset water samples from LooeKey collections\n",
    "ps_W_OR =subset_samples(ps_W, Experiment==\"original\")\n",
    "ps_W_OR\n",
    "\n",
    "ps_W_OP =subset_samples(ps_W, Experiment==\"oppurtunistic\")\n",
    "ps_W_OP\n",
    "\n",
    "#remove MMEA from other tissue samples\n",
    "ps_T_OR = subset_samples(ps_T, SpeciesCode!=\"MMEA\")\n",
    "ps_T_OR\n",
    "#combine sediment, water, and tissue from the original dataset\n",
    "ps_merge_OR= merge_phyloseq(ps_W_OR, ps_S, ps_T_OR)\n",
    "#combine all sediment, water, and tissue samples\n",
    "ps_merge= merge_phyloseq(ps_W, ps_S, ps_T)\n",
    "ps_merge"
   ]
  },
  {
   "cell_type": "code",
   "execution_count": null,
   "metadata": {
    "button": false,
    "new_sheet": false,
    "run_control": {
     "read_only": false
    }
   },
   "outputs": [],
   "source": [
    "#Filter ASV abundances\n",
    "ps_fill_T_OR = filter_taxa(ps_T_OR, function(x) sum(x > 5 ) > (0.15*length(x)), TRUE)\n",
    "ps_fill_T_OR"
   ]
  },
  {
   "cell_type": "code",
   "execution_count": null,
   "metadata": {
    "button": false,
    "new_sheet": false,
    "run_control": {
     "read_only": false
    }
   },
   "outputs": [],
   "source": [
    "#CLR transformation\n",
    "ps_clr_T_OR <- microbiome::transform(ps_fill_T_OR, 'clr')\n",
    "#tranform by species\n",
    "ps_clr_T_MMEA <- microbiome::transform(ps_T_OP_MMEA, 'clr')\n",
    "ps_clr_T_DLAB <- microbiome::transform(ps_T_DLAB, 'clr')\n",
    "ps_clr_T_DSTOK <- microbiome::transform(ps_T_DSTOK, 'clr')\n",
    "ps_clr_T_SINT <- microbiome::transform(ps_T_SINT, 'clr')\n",
    "#transform healthy samples\n",
    "ps_clr_T_AH_DLAB <- microbiome::transform(ps_T_AH_DLAB, 'clr')\n",
    "ps_clr_T_AH_DSTOK <- microbiome::transform(ps_T_AH_DSTOK, 'clr')\n",
    "ps_clr_T_AH_SINT <- microbiome::transform(ps_T_AH_SINT, 'clr')\n",
    "#water samples \n",
    "ps_clr_W <- microbiome::transform(ps_W, 'clr')\n",
    "ps_clr_W_OR =subset_samples(ps_clr_W, Experiment==\"original\")\n",
    "ps_clr_W_OP =subset_samples(ps_clr_W, Experiment==\"oppurtunistic\")\n",
    "#all samples \n",
    "ps_merge_OR_clr <- microbiome::transform(ps_merge_OR, 'clr')\n",
    "#sediment samples \n",
    "ps_clr_S <- microbiome::transform(ps_S, 'clr')"
   ]
  },
  {
   "cell_type": "code",
   "execution_count": null,
   "metadata": {
    "button": false,
    "new_sheet": false,
    "run_control": {
     "read_only": false
    }
   },
   "outputs": [],
   "source": [
    "#ordination \n",
    "ps.ord_clrT <- ordinate(ps_clr_T_OR, \"RDA\", \"euclidean\")\n",
    "ps.ord_merge_OR_clr = ordinate(ps_merge_OR_clr, \"RDA\", \"euclidean\")\n",
    "#ordination by species\n",
    "ps.ord_clrT_OP_MMEA <- ordinate(ps_clr_T_MMEA, \"RDA\", \"euclidean\")\n",
    "ps.ord_clr_T_DLAB <- ordinate(ps_clr_T_DLAB, \"RDA\", \"euclidean\")\n",
    "ps.ord_clr_T_DSTOK <- ordinate(ps_clr_T_DSTOK, \"RDA\", \"euclidean\")\n",
    "ps.ord_clr_T_SINT <- ordinate(ps_clr_T_SINT, \"RDA\", \"euclidean\")\n",
    "#ordination healthy samples\n",
    "ps.ord_clr_T_AH_DLAB<- ordinate(ps_clr_T_AH_DLAB, \"RDA\", \"euclidean\")\n",
    "ps.ord_clr_T_AH_DSTOK<- ordinate(ps_clr_T_AH_DSTOK, \"RDA\", \"euclidean\")\n",
    "ps.ord_clr_T__AH_SINT<- ordinate(ps_clr_T_AH_SINT, \"RDA\", \"euclidean\")\n",
    "#ordinate water samples\n",
    "ps.ord_clrW <- ordinate(ps_clr_W, \"RDA\", \"euclidean\")\n",
    "ps.ord_clrW_OR <- ordinate(ps_clr_W_OR, \"RDA\", \"euclidean\")\n",
    "#ordinate sediment samples\n",
    "ps.ord_clrS <- ordinate(ps_clr_S, \"RDA\", \"euclidean\")\n"
   ]
  },
  {
   "cell_type": "markdown",
   "metadata": {},
   "source": [
    "# Dispersion"
   ]
  },
  {
   "cell_type": "code",
   "execution_count": null,
   "metadata": {
    "scrolled": false
   },
   "outputs": [],
   "source": [
    "#sediment samples\n",
    "dis <- vegdist(otu_table(ps_clr_S), method =\"euclidean\") \n",
    "#homogeneity of group dispersions (variances).\n",
    "mod <- betadisper(dis, sample_data(ps_clr_S)$Zone)\n",
    "mod\n",
    "\n",
    "## Permutation test for F\n",
    "permutest(mod, pairwise = TRUE)\n",
    "\n",
    "## Tukey's Honest Significant Differences\n",
    "TukeyHSD(mod)\n"
   ]
  },
  {
   "cell_type": "code",
   "execution_count": null,
   "metadata": {
    "button": false,
    "new_sheet": false,
    "run_control": {
     "read_only": false
    }
   },
   "outputs": [],
   "source": [
    "#water samples without LK\n",
    "dis <- vegdist(otu_table(ps_clr_W_OR), method =\"euclidean\")\n",
    "#homogeneity of group dispersions (variances).\n",
    "mod <- betadisper(dis, sample_data(ps_clr_W_OR)$Zone)\n",
    "mod\n",
    "## Permutation test for F\n",
    "permutest(mod, pairwise = TRUE)\n",
    "\n",
    "## Tukey's Honest Significant Differences\n",
    "TukeyHSD(mod)\n"
   ]
  },
  {
   "cell_type": "code",
   "execution_count": null,
   "metadata": {
    "button": false,
    "new_sheet": false,
    "run_control": {
     "read_only": false
    },
    "scrolled": false
   },
   "outputs": [],
   "source": [
    "#tissue w/out MMEA\n",
    "dis <- vegdist(otu_table(ps_clr_T_OR), method =\"euclidean\")\n",
    "#homogeneity of group dispersions (variances).\n",
    "mod <- betadisper(dis, sample_data(ps_clr_T_OR)$Conditions)\n",
    "mod\n",
    "## Permutation test for F\n",
    "permutest(mod, pairwise = TRUE)\n",
    "\n",
    "## Tukey's Honest Significant Differences\n",
    "TukeyHSD(mod)"
   ]
  },
  {
   "cell_type": "code",
   "execution_count": null,
   "metadata": {},
   "outputs": [],
   "source": [
    "#AH DLAB\n",
    "\n",
    "dis <- vegdist(otu_table(ps_clr_T_AH_DLAB), method =\"euclidean\")\n",
    "#homogeneity of group dispersions (variances).\n",
    "mod <- betadisper(dis, sample_data(ps_clr_T_AH_DLAB)$Zone)\n",
    "mod\n",
    "## Permutation test for F\n",
    "permutest(mod, pairwise = TRUE)\n",
    "\n",
    "## Tukey's Honest Significant Differences\n",
    "TukeyHSD(mod)\n"
   ]
  },
  {
   "cell_type": "code",
   "execution_count": null,
   "metadata": {},
   "outputs": [],
   "source": [
    "#AH DSTO\n",
    "dis <- vegdist(otu_table(ps_clr_T_AH_DSTOK), method =\"euclidean\")\n",
    "#homogeneity of group dispersions (variances).\n",
    "mod <- betadisper(dis, sample_data(ps_clr_T_AH_DSTOK)$Zone)\n",
    "mod\n",
    "## Permutation test for F\n",
    "permutest(mod, pairwise = TRUE)\n",
    "\n",
    "## Tukey's Honest Significant Differences\n",
    "TukeyHSD(mod)\n"
   ]
  },
  {
   "cell_type": "code",
   "execution_count": null,
   "metadata": {
    "scrolled": false
   },
   "outputs": [],
   "source": [
    "#AH SINT\n",
    "dis <- vegdist(otu_table(ps_clr_T_AH_SINT), method =\"euclidean\")\n",
    "#homogeneity of group dispersions (variances).\n",
    "mod <- betadisper(dis, sample_data(ps_clr_T_AH_SINT)$Zone)\n",
    "mod\n",
    "## Permutation test for F\n",
    "permutest(mod, pairwise = TRUE)\n",
    "\n",
    "## Tukey's Honest Significant Differences\n",
    "TukeyHSD(mod)\n"
   ]
  },
  {
   "cell_type": "code",
   "execution_count": null,
   "metadata": {},
   "outputs": [],
   "source": [
    "#All tissue DLAB\n",
    "dis <- vegdist(otu_table(ps_clr_T_DLAB), method =\"euclidean\")\n",
    "#homogeneity of group dispersions (variances).\n",
    "mod <- betadisper(dis, sample_data(ps_clr_T_DLAB)$Conditions)\n",
    "mod\n",
    "## Permutation test for F\n",
    "permutest(mod, pairwise = TRUE)\n",
    "\n",
    "## Tukey's Honest Significant Differences\n",
    "(mod.HSD <- TukeyHSD(mod))\n"
   ]
  },
  {
   "cell_type": "code",
   "execution_count": null,
   "metadata": {},
   "outputs": [],
   "source": [
    "#All tissue SINT\n",
    "dis <- vegdist(otu_table(ps_clr_T_SINT), method =\"euclidean\")\n",
    "#homogeneity of group dispersions (variances).\n",
    "mod <- betadisper(dis, sample_data(ps_clr_T_SINT)$Conditions)\n",
    "mod\n",
    "## Permutation test for F\n",
    "permutest(mod, pairwise = TRUE)\n",
    "\n",
    "## Tukey's Honest Significant Differences\n",
    "(mod.HSD <- TukeyHSD(mod))\n"
   ]
  },
  {
   "cell_type": "code",
   "execution_count": null,
   "metadata": {},
   "outputs": [],
   "source": [
    "#All tissue DSTO\n",
    "dis <- vegdist(otu_table(ps_clr_T_DSTOK), method =\"euclidean\")\n",
    "#homogeneity of group dispersions (variances).\n",
    "mod <- betadisper(dis, sample_data(ps_clr_T_DSTOK)$Conditions)\n",
    "mod\n",
    "## Permutation test for F\n",
    "permutest(mod, pairwise = TRUE)\n",
    "\n",
    "## Tukey's Honest Significant Differences\n",
    "mod.HSD <- TukeyHSD(mod)\n"
   ]
  },
  {
   "cell_type": "code",
   "execution_count": null,
   "metadata": {},
   "outputs": [],
   "source": [
    "#All tissue MMEA\n",
    "dis <- vegdist(otu_table(ps_clr_T_MMEA), method =\"euclidean\")\n",
    "#homogeneity of group dispersions (variances).\n",
    "mod <- betadisper(dis, sample_data(ps_clr_T_MMEA)$Condition)\n",
    "mod\n",
    "## Permutation test for F\n",
    "permutest(mod, pairwise = TRUE)\n",
    "\n",
    "## Tukey's Honest Significant Differences\n",
    "mod.HSD <- TukeyHSD(mod)\n"
   ]
  },
  {
   "cell_type": "markdown",
   "metadata": {},
   "source": [
    "# PERMANOVA \n",
    "## Group comparisons"
   ]
  },
  {
   "cell_type": "code",
   "execution_count": null,
   "metadata": {},
   "outputs": [],
   "source": [
    "#convert meta data to dataframe\n",
    "df_merge_OR_clr_meta= as(sample_data(ps_merge_OR), \"data.frame\")\n",
    "#All samples\n",
    "adonis(otu_table(ps_merge_OR)~ Type, \n",
    "       data =df_merge_OR_clr_meta, permutations = 999, \n",
    "         method = \"euclidean\") "
   ]
  },
  {
   "cell_type": "code",
   "execution_count": null,
   "metadata": {},
   "outputs": [],
   "source": [
    "#convert meta data and counts table to dataframe \n",
    "df_ps_clr_W_OR=as.data.frame(otu_table(ps_clr_W_OR))\n",
    "df_ps_clr_W_OR_meta= as(sample_data(ps_clr_W_OR), \"data.frame\")\n",
    "\n",
    "df_ps_clr_S=as.data.frame(otu_table(ps_clr_S))\n",
    "df_ps_clr_S_meta= as(sample_data(ps_clr_S), \"data.frame\")"
   ]
  },
  {
   "cell_type": "code",
   "execution_count": null,
   "metadata": {},
   "outputs": [],
   "source": [
    "#water w/out looekey\n",
    "adonis(formula = otu_table(ps_clr_W_OR) ~ ReefName, data =df_ps_clr_W_OR_meta, permutations = 999, \n",
    "         method = \"euclidean\", strata = df_ps_clr_W_OR_meta$Zone) \n",
    "#all sediments\n",
    "adonis(formula = otu_table(ps_clr_S) ~ ReefName, data =df_ps_clr_S_meta, permutations = 999, \n",
    "         method = \"euclidean\", strata = df_ps_clr_S_meta$Zone) "
   ]
  },
  {
   "cell_type": "code",
   "execution_count": null,
   "metadata": {},
   "outputs": [],
   "source": [
    "#convert meta data and counts table to dataframe \n",
    "df_clr_T_OR_AH_DLAB=as.data.frame(otu_table(ps_clr_T_AH_DLAB))\n",
    "df_clr_T_OR_meta_AH_DLAB= as(sample_data(ps_clr_T_AH_DLAB), \"data.frame\")\n",
    "\n",
    "df_clr_T_OR_AH_DSTOK=as.data.frame(otu_table(ps_clr_T_AH_DSTOK))\n",
    "df_clr_T_OR_meta_AH_DSTOK= as(sample_data(ps_clr_T_AH_DSTOK), \"data.frame\")\n",
    "\n",
    "df_clr_T_OR_AH_SINT=as.data.frame(otu_table(ps_clr_T_AH_SINT))\n",
    "df_clr_T_OR_meta_AH_SINT= as(sample_data(ps_clr_T_AH_SINT), \"data.frame\")"
   ]
  },
  {
   "cell_type": "code",
   "execution_count": null,
   "metadata": {},
   "outputs": [],
   "source": [
    "#AH\n",
    "adonis(otu_table(ps_clr_T_AH_DLAB) ~ Zone, \n",
    "       data =df_clr_T_OR_meta_AH_DLAB, permutations = 999, \n",
    "         method = \"euclidean\") \n",
    "\n",
    "adonis(otu_table(ps_clr_T_AH_DSTOK) ~ Zone, \n",
    "       data = df_clr_T_OR_meta_AH_DSTOK, permutations = 999, \n",
    "         method = \"euclidean\") \n",
    "\n",
    "\n",
    "adonis(otu_table(ps_clr_T_AH_SINT) ~ Zone, \n",
    "       data =df_clr_T_OR_meta_AH_SINT, permutations = 999, \n",
    "         method = \"euclidean\") "
   ]
  },
  {
   "cell_type": "code",
   "execution_count": null,
   "metadata": {},
   "outputs": [],
   "source": [
    "#convert meta data and counts table to dataframe \n",
    "df_clr_T=as.data.frame(otu_table(ps_clr_T_OR))\n",
    "df_clr_T_meta= as(sample_data(ps_clr_T_OR), \"data.frame\")\n",
    "\n",
    "df_clr_T_OP_MMEA=as.data.frame(otu_table(ps_clr_T_MMEA))\n",
    "df_clr_T_meta_OP_MMEA= as(sample_data(ps_clr_T_MMEA), \"data.frame\")\n",
    "\n",
    "\n",
    "df_clr_T_OR_DLAB=as.data.frame(otu_table(ps_clr_T_DLAB))\n",
    "df_clr_T_OR_meta_DLAB= as(sample_data(ps_clr_T_DLAB), \"data.frame\")\n",
    "\n",
    "df_clr_T_OR_DSTOK=as.data.frame(otu_table(ps_clr_T_DSTOK))\n",
    "df_clr_T_OR_meta_DSTOK= as(sample_data(ps_clr_T_DSTOK), \"data.frame\")\n",
    "\n",
    "df_clr_T_OR_SINT=as.data.frame(otu_table(ps_clr_T_SINT))\n",
    "df_clr_T_OR_meta_SINT= as(sample_data(ps_clr_T_SINT), \"data.frame\")"
   ]
  },
  {
   "cell_type": "code",
   "execution_count": null,
   "metadata": {},
   "outputs": [],
   "source": [
    "#all tissue per species - test condition\n",
    "adonis(df_clr_T ~Conditions,\n",
    "               data = df_clr_T_meta, permutations=999, method = \"euclidian\")\n",
    "\n",
    "\n",
    "adonis(df_clr_T_OR_DLAB ~ Conditions, \n",
    "       data =df_clr_T_OR_meta_DLAB, permutations = 999, \n",
    "         method = \"euclidean\") \n",
    "\n",
    "adonis(otu_table(ps_clr_T_DSTOK) ~ Conditions, \n",
    "       data = df_clr_T_OR_meta_DSTOK, permutations = 999, \n",
    "         method = \"euclidean\") \n",
    "\n",
    "\n",
    "adonis(otu_table(ps_clr_T_SINT) ~ Conditions, \n",
    "       data =df_clr_T_OR_meta_SINT, permutations = 999, \n",
    "         method = \"euclidean\") \n",
    "\n",
    "\n",
    "adonis(otu_table(ps_clr_T_MMEA) ~ Conditions, \n",
    "       data =df_clr_T_meta_OP_MMEA, permutations = 999, \n",
    "         method = \"euclidean\") \n"
   ]
  },
  {
   "cell_type": "code",
   "execution_count": null,
   "metadata": {},
   "outputs": [],
   "source": [
    "# test 5 tissues and species interactions\n",
    "df_ps_clr_T= as(sample_data(ps_clr_T_OR), \"data.frame\")\n",
    "\n",
    "adonis(otu_table(ps_clr_T_OR)~ Conditions, \n",
    "       data =df_ps_clr_T, permutations = 999, \n",
    "         method = \"euclidean\") \n",
    "\n",
    "\n",
    "adonis(otu_table(ps_clr_T_OR)~ Conditions*SpeciesCode, \n",
    "       data =df_ps_clr_T, permutations = 999, \n",
    "         method = \"euclidean\") \n",
    "\n"
   ]
  },
  {
   "cell_type": "markdown",
   "metadata": {},
   "source": [
    "## Pairwise comparison"
   ]
  },
  {
   "cell_type": "code",
   "execution_count": null,
   "metadata": {},
   "outputs": [],
   "source": [
    "#compare zones in sediment ans water samples\n",
    "pairwise.adonis(otu_table(ps_clr_S), df_ps_clr_W_OR_meta$Zone, sim.method = \"euclidean\",\n",
    "                p.adjust.m = \"bonferroni\")\n",
    "\n",
    "\n",
    "pairwise.adonis(otu_table(ps_clr_W_OR), df_ps_clr_W_OR_meta$Zone, sim.method = \"euclidean\",\n",
    "                p.adjust.m = \"bonferroni\")"
   ]
  },
  {
   "cell_type": "code",
   "execution_count": null,
   "metadata": {
    "scrolled": false
   },
   "outputs": [],
   "source": [
    "#AH compare zones\n",
    "pairwise.adonis(df_clr_T_OR_AH_DLAB, df_clr_T_OR_meta_AH_DLAB$Zone, sim.method = \"euclidean\",\n",
    "                p.adjust.m = \"bonferroni\",)\n",
    "\n",
    "\n",
    "\n",
    "pairwise.adonis(df_clr_T_OR_AH_DSTOK, df_clr_T_OR_meta_AH_DSTOK$Zone, sim.method = \"euclidean\",\n",
    "                p.adjust.m = \"bonferroni\",)\n",
    "\n",
    "\n",
    "pairwise.adonis(df_clr_T_OR_AH_SINT, df_clr_T_OR_meta_AH_SINT$Zone, sim.method = \"euclidean\",\n",
    "                p.adjust.m = \"bonferroni\",)\n",
    "\n",
    "\n",
    "\n"
   ]
  },
  {
   "cell_type": "code",
   "execution_count": null,
   "metadata": {
    "scrolled": false
   },
   "outputs": [],
   "source": [
    "#compare VuAH, EnAH, DU, DL\n",
    "pairwise.adonis(df_clr_T, df_clr_T_meta$Conditions, sim.method = \"euclidean\",\n",
    "                p.adjust.m = \"bonferroni\",)\n",
    "\n",
    "pairwise.adonis(otu_table(ps_clr_T_OR), df_ps_clr_T$Conditions, \n",
    "                sim.method = \"euclidean\",\n",
    "                p.adjust.m = \"bonferroni\")\n",
    "\n",
    "pairwise.adonis(df_clr_T_OR_DLAB, df_clr_T_OR_meta_DLAB$Conditions, sim.method = \"euclidean\",\n",
    "                p.adjust.m = \"bonferroni\")\n",
    "\n",
    "\n",
    "\n",
    "pairwise.adonis(df_clr_T_OR_DSTOK, df_clr_T_OR_meta_DSTOK$Conditions, sim.method = \"euclidean\",\n",
    "                p.adjust.m = \"bonferroni\")\n",
    "\n",
    "\n",
    "pairwise.adonis(df_clr_T_OR_SINT, df_clr_T_OR_meta_SINT$Conditions, sim.method = \"euclidean\",\n",
    "                p.adjust.m = \"bonferroni\")\n",
    "\n",
    "pairwise.adonis(df_clr_T_OP_MMEA, df_clr_T_meta_OP_MMEA$Conditions, sim.method = \"euclidean\",\n",
    "                p.adjust.m = \"bonferroni\")\n"
   ]
  },
  {
   "cell_type": "code",
   "execution_count": null,
   "metadata": {},
   "outputs": [],
   "source": [
    "R.version"
   ]
  }
 ],
 "metadata": {
  "kernelspec": {
   "display_name": "R",
   "language": "R",
   "name": "ir"
  },
  "language_info": {
   "codemirror_mode": "r",
   "file_extension": ".r",
   "mimetype": "text/x-r-source",
   "name": "R",
   "pygments_lexer": "r",
   "version": "3.5.1"
  }
 },
 "nbformat": 4,
 "nbformat_minor": 2
}
