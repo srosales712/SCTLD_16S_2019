{
 "cells": [
  {
   "cell_type": "code",
   "execution_count": 2,
   "metadata": {},
   "outputs": [
    {
     "name": "stdout",
     "output_type": "stream",
     "text": [
      "/space/home/rosales/anaconda2/envs/qiime2-2018.11/bin/qiime\r\n"
     ]
    }
   ],
   "source": [
    "!which qiime"
   ]
  },
  {
   "cell_type": "code",
   "execution_count": null,
   "metadata": {},
   "outputs": [],
   "source": [
    "#%cd \n",
    "!pwd"
   ]
  },
  {
   "cell_type": "code",
   "execution_count": null,
   "metadata": {},
   "outputs": [],
   "source": [
    "#import data into qiime format\n",
    "\n",
    "!qiime tools import \\\n",
    "--type EMPPairedEndSequences \\\n",
    "--input-path qiime2_67/emp-paired-end-sequences/ \\\n",
    "--output-path TL_import_67.qza\n",
    "\n",
    "!qiime tools import \\\n",
    "--type EMPPairedEndSequences \\\n",
    "--input-path qiime2_68/emp-paired-end-sequences/ \\\n",
    "--output-path TL_import_68.qza\n",
    "\n",
    "!qiime tools import \\\n",
    "--type EMPPairedEndSequences \\\n",
    "--input-path qiime2_138/emp-paired-end-sequences/ \\\n",
    "--output-path TL_import_138.qza\n",
    "\n",
    "!qiime tools import \\\n",
    "--type EMPPairedEndSequences \\\n",
    "--input-path qiime2_208/emp-paired-end-sequences/ \\\n",
    "--output-path TL_import_208.qza\n",
    "\n",
    "qiime tools import \\\n",
    "--type EMPPairedEndSequences \\\n",
    "--input-path qiime2_2019_03/emp-paired-end-sequences/ \\\n",
    "--output-path TL_import_2019_03\n",
    "\n",
    "!qiime tools import \\\n",
    "--type EMPPairedEndSequences \\\n",
    "--input-path qiime2_2019_05/ \\\n",
    "--output-path TL_import_2019_05.qza\n"
   ]
  },
  {
   "cell_type": "code",
   "execution_count": null,
   "metadata": {},
   "outputs": [],
   "source": [
    "!qiime demux emp-paired \\\n",
    "--i-seqs TL_import_67.qza \\\n",
    "--m-barcodes-file EM515F_67-mapping.txt \\\n",
    "--o-per-sample-sequences demux_TL67.qza \\\n",
    "--m-barcodes-column BarcodeSequence \n",
    "\n",
    "!qiime demux emp-paired \\\n",
    "--i-seqs TL_import_68.qza \\\n",
    "--m-barcodes-file EM515F_68-mapping.txt \\\n",
    "--o-per-sample-sequences demux_TL68.qza \\\n",
    "--m-barcodes-column BarcodeSequence \n",
    "\n",
    "\n",
    "!qiime demux emp-paired \\\n",
    "--i-seqs TL_import_138.qza \\\n",
    "--m-barcodes-file EM515F_138-mapping.txt \\\n",
    "--o-per-sample-sequences demux_TL138.qza \\\n",
    "--m-barcodes-column BarcodeSequence \n",
    "\n",
    "!qiime demux emp-paired \\\n",
    "--i-seqs TL_import_208.qza \\\n",
    "--m-barcodes-file EM515F_208-mapping.txt \\\n",
    "--o-per-sample-sequences demux_TL208.qza \\\n",
    "--m-barcodes-column BarcodeSequence \n",
    "\n",
    "qiime demux emp-paired \\\n",
    "--i-seqs TL_import_2019_03.qza \\\n",
    "--m-barcodes-file EM515F2019_03-mapping.txt \\\n",
    "--o-per-sample-sequences demux_2019_03.qza \\\n",
    "--m-barcodes-column BarcodeSequence\n",
    "\n",
    "!qiime demux emp-paired \\\n",
    "--i-seqs TL_import_2019_05.qza \\\n",
    "--m-barcodes-file EM515F_040519-mapping.txt \\\n",
    "--o-per-sample-sequences demux_2019_05.qza \\\n",
    "--m-barcodes-column BarcodeSequence\n",
    "\n",
    "\n"
   ]
  },
  {
   "cell_type": "code",
   "execution_count": null,
   "metadata": {},
   "outputs": [],
   "source": [
    "!qiime cutadapt trim-paired \\\n",
    "--i-demultiplexed-sequences demux_TL67.qza \\\n",
    "--p-cores 16 \\\n",
    "--p-front-f GTGYCAGCMGCCGCGGTAA \\\n",
    "--p-front-r GGACTACNVGGGTWTCTAAT \\\n",
    "--o-trimmed-sequences demux_trim_TL67.qza \n",
    "\n",
    "!qiime cutadapt trim-paired \\\n",
    "--i-demultiplexed-sequences demux_TL68.qza \\\n",
    "--p-cores 16 \\\n",
    "--p-front-f GTGYCAGCMGCCGCGGTAA \\\n",
    "--p-front-r GGACTACNVGGGTWTCTAAT \\\n",
    "--o-trimmed-sequences demux_trim_TL68.qza \n",
    "\n",
    "!qiime cutadapt trim-paired \\\n",
    "--i-demultiplexed-sequences demux_TL138.qza \\\n",
    "--p-cores 16 \\\n",
    "--p-front-f GTGYCAGCMGCCGCGGTAA \\\n",
    "--p-front-r GGACTACNVGGGTWTCTAAT \\\n",
    "--o-trimmed-sequences demux_trim_TL138.qza \n",
    "\n",
    "!qiime cutadapt trim-paired \\\n",
    "--i-demultiplexed-sequences demux_TL208.qza \\\n",
    "--p-cores 16 \\\n",
    "--p-front-f GTGYCAGCMGCCGCGGTAA \\\n",
    "--p-front-r GGACTACNVGGGTWTCTAAT \\\n",
    "--o-trimmed-sequences demux_trim_TL208.qza \n",
    "\n",
    "!qiime cutadapt trim-paired \\\n",
    "--i-demultiplexed-sequences demux_2019_03.qza \\\n",
    "--p-cores 16 \\\n",
    "--p-front-f GTGYCAGCMGCCGCGGTAA \\\n",
    "--p-front-r GGACTACNVGGGTWTCTAAT \\\n",
    "--o-trimmed-sequences demux_trim_TL2019_03.qza\n",
    "\n",
    "!qiime cutadapt trim-paired \\\n",
    "--i-demultiplexed-sequences demux_2019_05.qza \\\n",
    "--p-cores 16 \\\n",
    "--p-front-f GTGYCAGCMGCCGCGGTAA \\\n",
    "--p-front-r GGACTACNVGGGTWTCTAAT \\\n",
    "--o-trimmed-sequences demux_trim_TL2019_05.qza\n",
    "\n"
   ]
  },
  {
   "cell_type": "code",
   "execution_count": null,
   "metadata": {},
   "outputs": [
    {
     "name": "stdout",
     "output_type": "stream",
     "text": [
      "\u001b[32mSaved Visualization to: demux_trim_TL67.qzv\u001b[0m\n",
      "\u001b[32mSaved Visualization to: demux_trim_TL68.qzv\u001b[0m\n"
     ]
    }
   ],
   "source": [
    "!qiime demux summarize  --i-data demux_trim_TL67.qza  --o-visualization demux_trim_TL67.qzv\n",
    "!qiime demux summarize  --i-data demux_trim_TL68.qza  --o-visualization demux_trim_TL68.qzv\n",
    "!qiime demux summarize  --i-data demux_trim_TL138.qza --o-visualization demux_trim_TL138.qzv\n",
    "!qiime demux summarize  --i-data demux_trim_TL2019_03.qza --o-visualization demux_trim_TL2019_03.qzv\n",
    "!qiime demux summarize  --i-data demux_trim_TL208.qza --o-visualization demux_trim_TL208.qzv\n",
    "!qiime demux summarize  --i-data demux_trim_TL2019_05.qza --o-visualization demux_trim_2019_05.qzv\n",
    "\n",
    "\n"
   ]
  },
  {
   "cell_type": "code",
   "execution_count": null,
   "metadata": {},
   "outputs": [],
   "source": [
    "!qiime dada2 denoise-paired \\\n",
    "--i-demultiplexed-seqs demux_trim_TL67.qza \\\n",
    "--p-trunc-len-f 200 \\\n",
    "--p-trunc-len-r 200 \\\n",
    "--p-n-threads 10  \\\n",
    "--o-representative-sequences rep_seqs_TL_67.qza \\\n",
    "--o-table table_TL_67.qza \\\n",
    "--o-denoising-stats dada_stats_TL_67\n",
    "\n",
    "\n",
    "!qiime dada2 denoise-paired \\\n",
    "--i-demultiplexed-seqs demux_trim_TL68.qza \\\n",
    "--p-trunc-len-f 200 \\\n",
    "--p-trunc-len-r 200 \\\n",
    "--p-n-threads 20  \\\n",
    "--o-representative-sequences rep_seqs_TL_68.qza \\\n",
    "--o-table table_TL_68.qza \\\n",
    "--o-denoising-stats dada_stats_TL_68\n",
    "\n",
    "!qiime dada2 denoise-paired \\\n",
    "--i-demultiplexed-seqs demux_trim_TL138.qza \\\n",
    "--p-trunc-len-f 200 \\\n",
    "--p-trunc-len-r 200 \\\n",
    "--p-n-threads 20  \\\n",
    "--o-representative-sequences rep_seqs_TL_138.qza \\\n",
    "--o-table table_TL_138.qza \\\n",
    "--o-denoising-stats dada_stats_TL_138\n",
    "\n",
    "!qiime dada2 denoise-paired \\\n",
    "--i-demultiplexed-seqs demux_trim_TL208.qza \\\n",
    "--p-trunc-len-f 200 \\\n",
    "--p-trunc-len-r 200 \\\n",
    "--p-n-threads 20  \\\n",
    "--o-representative-sequences rep_seqs_TL_208.qza \\\n",
    "--o-table table_TL_208.qza \\\n",
    "--o-denoising-stats dada_stats_TL_208\n",
    "\n",
    " !qiime dada2 denoise-paired \\ \n",
    "--i-demultiplexed-seqs demux_trim_TL2019_03.qza \\\n",
    "--p-trunc-len-f 200 \\\n",
    "--p-trunc-len-r 200 \\\n",
    "--p-n-threads 10 \\\n",
    "--o-representative-sequences rep_seqs_TL_2019_03.qza \\\n",
    "--o-table table_TL_2019_03.qza.qza \\\n",
    "--o-denoising-stats dada_stats_TL_2019_03\n",
    "\n",
    "!qiime dada2 denoise-paired \\\n",
    "--i-demultiplexed-seqs demux_2019_05.qza \\\n",
    "--p-trunc-len-f 210 \\\n",
    "--p-trunc-len-r 230 \\\n",
    "--p-n-threads 20 \\\n",
    "--o-representative-sequences rep_seqs_TL_2019_05.qza \\\n",
    "--o-table table_TL_2019_05.qza \\\n",
    "--o-denoising-stats dada_stats_TL_2019_05\n"
   ]
  },
  {
   "cell_type": "code",
   "execution_count": 2,
   "metadata": {},
   "outputs": [
    {
     "name": "stdout",
     "output_type": "stream",
     "text": [
      "\u001b[32mSaved Visualization to: id-filtered_table_TL_NCBI.qzv\u001b[0m\r\n"
     ]
    }
   ],
   "source": [
    "!qiime feature-table summarize \\\n",
    "  --i-table id-filtered_table_TL_NCBI.qza \\\n",
    "  --o-visualization id-filtered_table_TL_NCBI.qzv \\\n",
    "  --m-sample-metadata-file  metadata_TL16S.txt"
   ]
  },
  {
   "cell_type": "code",
   "execution_count": 5,
   "metadata": {},
   "outputs": [
    {
     "name": "stdout",
     "output_type": "stream",
     "text": [
      "\u001b[32mSaved FeatureTable[Frequency] to: table_mergeTL.qza\u001b[0m\r\n"
     ]
    }
   ],
   "source": [
    "!qiime feature-table merge \\\n",
    "  --i-tables table_TL_138.qza \\\n",
    "  --i-tables table_TL_208.qza \\\n",
    "  --i-tables table_TL_67.qza \\\n",
    "  --i-tables table_TL_68.qza \\\n",
    "  --i-tables table_TL_2019_03.qza.qza \\\n",
    "  --i-tables table_TL_2019_05.qza \\\n",
    "  --o-merged-table table_mergeTL.qza"
   ]
  },
  {
   "cell_type": "code",
   "execution_count": 7,
   "metadata": {},
   "outputs": [
    {
     "name": "stdout",
     "output_type": "stream",
     "text": [
      "\u001b[32mSaved Visualization to: table_mergeTL.qzv\u001b[0m\r\n"
     ]
    }
   ],
   "source": [
    "#merge table from runs\n",
    "!qiime feature-table summarize \\\n",
    "  --i-table table_mergeTL.qza \\\n",
    "  --o-visualization table_mergeTL.qzv \\\n",
    "  --m-sample-metadata-file metadata_TL16S.txt"
   ]
  },
  {
   "cell_type": "code",
   "execution_count": 9,
   "metadata": {},
   "outputs": [
    {
     "name": "stdout",
     "output_type": "stream",
     "text": [
      "\u001b[32mSaved FeatureData[Sequence] to: rep-seqs_mergeTL.qza\u001b[0m\r\n"
     ]
    }
   ],
   "source": [
    "#merge seqs \n",
    "!qiime feature-table merge-seqs \\\n",
    "  --i-data rep_seqs_TL_138.qza \\\n",
    "  --i-data rep_seqs_TL_208.qza \\\n",
    "  --i-data rep_seqs_TL_67.qza \\\n",
    "  --i-data rep_seqs_TL_68.qza \\\n",
    "  --i-data rep_seqs_TL_2019_03.qza \\\n",
    "  --i-data rep_seqs_TL_2019_05.qza \\\n",
    "  --o-merged-data rep-seqs_mergeTL.qza"
   ]
  },
  {
   "cell_type": "code",
   "execution_count": 10,
   "metadata": {},
   "outputs": [
    {
     "name": "stdout",
     "output_type": "stream",
     "text": [
      "CPU times: user 4 µs, sys: 0 ns, total: 4 µs\n",
      "Wall time: 13.8 µs\n",
      "\u001b[32mSaved FeatureData[Taxonomy] to: taxonomyTL.qza\u001b[0m\n"
     ]
    }
   ],
   "source": [
    "%time\n",
    "!qiime feature-classifier classify-sklearn \\\n",
    "  --i-classifier databases/silva-132-99-515-806-nb-classifier.qza \\\n",
    "  --i-reads rep-seqs_mergeTL.qza \\\n",
    "  --p-n-jobs -7 \\\n",
    "  --o-classification taxonomyTL.qza"
   ]
  },
  {
   "cell_type": "code",
   "execution_count": 12,
   "metadata": {},
   "outputs": [
    {
     "name": "stdout",
     "output_type": "stream",
     "text": [
      "\u001b[32mSaved FeatureTable[Frequency] to: /space/home/rosales/projects/2018_TissueLoss/micro_16S/table-BacArc_TL.qza\u001b[0m\n",
      "\u001b[32mSaved FeatureData[Sequence] to: /space/home/rosales/projects/2018_TissueLoss/micro_16S/rep_seqs_BacArc_TL.qza\u001b[0m\n"
     ]
    }
   ],
   "source": [
    "!qiime taxa filter-table \\\n",
    "  --i-table table_mergeTL.qza \\\n",
    "  --i-taxonomy taxonomyTL.qza \\\n",
    "  --p-exclude mitochondria,chloroplast \\\n",
    "  --p-include D_0__Bacteria,D_0__Archaea \\\n",
    "  --o-filtered-table table-BacArc_TL.qza\n",
    "\n",
    "\n",
    "\n",
    "!qiime taxa filter-seqs \\\n",
    "  --i-sequences  rep-seqs_mergeTL.qza \\\n",
    "  --i-taxonomy  taxonomyTL.qza \\\n",
    "  --p-exclude mitochondria,chloroplast \\\n",
    "  --p-include D_0__Bacteria,D_0__Archaea \\\n",
    "  --o-filtered-sequences rep_seqs_BacArc_TL.qza\n",
    "\n"
   ]
  },
  {
   "cell_type": "code",
   "execution_count": 14,
   "metadata": {},
   "outputs": [
    {
     "name": "stdout",
     "output_type": "stream",
     "text": [
      "\u001b[32mSaved Visualization to: table-BacArc_TL_sam.qzv\u001b[0m\r\n"
     ]
    }
   ],
   "source": [
    "!qiime feature-table summarize \\\n",
    "  --i-table table-BacArc_TL_sam.qza \\\n",
    "  --o-visualization table-BacArc_TL_sam.qzv \\\n",
    "  --m-sample-metadata-file metadata_TL16S.txt"
   ]
  },
  {
   "cell_type": "code",
   "execution_count": 15,
   "metadata": {},
   "outputs": [
    {
     "name": "stdout",
     "output_type": "stream",
     "text": [
      "\u001b[32mSaved Visualization to: /space/home/rosales/projects/2018_TissueLoss/micro_16S/rep_seqs_BacArc_TL.qzv\u001b[0m\n",
      "CPU times: user 448 ms, sys: 92.3 ms, total: 540 ms\n",
      "Wall time: 23 s\n"
     ]
    }
   ],
   "source": [
    "%time !qiime feature-table tabulate-seqs \\\n",
    "--i-data rep_seqs_BacArc_TL.qza \\\n",
    "--o-visualization rep_seqs_BacArc_TL.qzv"
   ]
  },
  {
   "cell_type": "code",
   "execution_count": 16,
   "metadata": {},
   "outputs": [
    {
     "name": "stdout",
     "output_type": "stream",
     "text": [
      "\u001b[32mSaved Visualization to: taxa-bar-sBacArc_sam_TL.qzv\u001b[0m\r\n"
     ]
    }
   ],
   "source": [
    "!qiime taxa barplot \\\n",
    "  --i-tabletable-BacArc_TL_sam.qza  \\\n",
    "  --i-taxonomy  taxonomyTL.qza \\\n",
    "  --m-metadata-file  metadata_TL16S.txt\\\n",
    "  --o-visualization taxa-bar-sBacArc_sam_TL.qzv"
   ]
  },
  {
   "cell_type": "code",
   "execution_count": 17,
   "metadata": {},
   "outputs": [
    {
     "name": "stdout",
     "output_type": "stream",
     "text": [
      "\u001b[32mSaved FeatureData[AlignedSequence] to: /space/home/rosales/projects/2018_TissueLoss/micro_16S/aligned_rep_seqs_BacArc_TL.qza\u001b[0m\n",
      "CPU times: user 24.1 s, sys: 4.47 s, total: 28.6 s\n",
      "Wall time: 22min 57s\n",
      "\u001b[32mSaved FeatureData[AlignedSequence] to: /space/home/rosales/projects/2018_TissueLoss/micro_16S/aligned_rep_seqsMasked_BacArc_TL.qza\u001b[0m\n",
      "\u001b[32mSaved Phylogeny[Rooted] to: /space/home/rosales/projects/2018_TissueLoss/micro_16S/rooted-tree-BacArc_TL.qza\u001b[0m\n",
      "CPU times: user 135 ms, sys: 31.9 ms, total: 167 ms\n",
      "Wall time: 7.68 s\n",
      "\u001b[32mSaved Phylogeny[Unrooted] to: /space/home/rosales/projects/2018_TissueLoss/micro_16S/unrooted-tree-BacArc_TL.qza\u001b[0m\n",
      "CPU times: user 26.3 s, sys: 5.28 s, total: 31.5 s\n",
      "Wall time: 24min 36s\n"
     ]
    }
   ],
   "source": [
    "%time !qiime alignment mafft \\\n",
    "  --i-sequences  rep_seqs_BacArc_TL.qza \\\n",
    "  --o-alignment aligned_rep_seqs_BacArc_TL.qza\n",
    "\n",
    "!qiime alignment mask \\\n",
    "--i-alignment aligned_rep_seqs_BacArc_TL.qza \\\n",
    "--o-masked-alignment aligned_rep_seqsMasked_BacArc_TL.qza\n",
    "\n",
    "%time !qiime phylogeny midpoint-root \\\n",
    "--i-tree unrooted-tree-BacArc_TL.qza \\\n",
    "--o-rooted-tree rooted-tree-BacArc_TL.qza\n",
    "\n",
    "%time !qiime phylogeny fasttree \\\n",
    "  --i-alignment aligned_rep_seqsMasked_BacArc_TL.qza \\\n",
    "  --o-tree unrooted-tree-BacArc_TL.qza"
   ]
  },
  {
   "cell_type": "code",
   "execution_count": 23,
   "metadata": {},
   "outputs": [
    {
     "name": "stdout",
     "output_type": "stream",
     "text": [
      "\u001b[32mExported /space/home/rosales/projects/2018_TissueLoss/micro_16S/table-BacArc_TL_sam.qza as BIOMV210DirFmt to directory /space/home/rosales/projects/2018_TissueLoss/micro_16S/exported_TL\u001b[0m\n",
      "\u001b[32mExported /space/home/rosales/projects/2018_TissueLoss/micro_16S/rooted-tree-BacArc_TL.qza as NewickDirectoryFormat to directory /space/home/rosales/projects/2018_TissueLoss/micro_16S/exported_TL\u001b[0m\n",
      "\u001b[32mExported /space/home/rosales/projects/2018_TissueLoss/micro_16S/taxonomyTL.qza as TSVTaxonomyDirectoryFormat to directory /space/home/rosales/projects/2018_TissueLoss/micro_16S/exported_TL\u001b[0m\n"
     ]
    }
   ],
   "source": [
    "!qiime tools export \\\n",
    "--input-path table-BacArc_TL_sam.qza  \\\n",
    "--output-path exported_TL \n",
    "\n",
    "!qiime tools export \\\n",
    "--input-path rooted-tree-BacArc_TL.qza  \\\n",
    "--output-path exported_TL\n",
    "\n",
    "!qiime tools export \\\n",
    "--input-path taxonomyTL.qza  \\\n",
    "--output-path exported_TL"
   ]
  },
  {
   "cell_type": "code",
   "execution_count": 25,
   "metadata": {},
   "outputs": [
    {
     "name": "stdout",
     "output_type": "stream",
     "text": [
      "6785 /space/home/rosales/projects/2018_TissueLoss/micro_16S/exported_TL/feature-table.txt\r\n"
     ]
    }
   ],
   "source": [
    "!biom  convert \\\n",
    "-i exported_TL/feature-table.biom \\\n",
    "--to-tsv \\\n",
    "-o exported_TL/feature-table.txt\n",
    "!wc -l  exported_TL/feature-table.txt"
   ]
  },
  {
   "cell_type": "code",
   "execution_count": 26,
   "metadata": {},
   "outputs": [],
   "source": [
    "!sed -r 's/#OTU\\sID/ASV/g' /space/home/rosales/projects/2018_TissueLoss/micro_16S/exported_TL/feature-table.txt | grep -v \"#\" > /space/home/rosales/projects/2018_TissueLoss/micro_16S/exported_TL/feature-table.tsv\n"
   ]
  }
 ],
 "metadata": {
  "kernelspec": {
   "display_name": "Python 3",
   "language": "python",
   "name": "python3"
  },
  "language_info": {
   "codemirror_mode": {
    "name": "ipython",
    "version": 3
   },
   "file_extension": ".py",
   "mimetype": "text/x-python",
   "name": "python",
   "nbconvert_exporter": "python",
   "pygments_lexer": "ipython3",
   "version": "3.5.5"
  }
 },
 "nbformat": 4,
 "nbformat_minor": 2
}
