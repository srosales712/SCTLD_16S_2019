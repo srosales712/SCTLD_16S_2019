{
 "cells": [
  {
   "cell_type": "code",
   "execution_count": null,
   "metadata": {
    "button": false,
    "new_sheet": false,
    "run_control": {
     "read_only": false
    }
   },
   "outputs": [],
   "source": [
    "!which qiime"
   ]
  },
  {
   "cell_type": "code",
   "execution_count": null,
   "metadata": {
    "button": false,
    "new_sheet": false,
    "run_control": {
     "read_only": false
    }
   },
   "outputs": [],
   "source": [
    "%cd #set working directory"
   ]
  },
  {
   "cell_type": "code",
   "execution_count": null,
   "metadata": {
    "button": false,
    "new_sheet": false,
    "run_control": {
     "read_only": false
    }
   },
   "outputs": [],
   "source": [
    "#select EPA study and oppurtunistic samples\n",
    "!qiime feature-table filter-samples \\\n",
    "  --i-table table-BacArc_TL_sam.qza \\\n",
    "  --p-no-exclude-ids \\\n",
    "  --p-where \"source='Mote'\" \\\n",
    "  --m-metadata-file metadata_TL16S.txt \\\n",
    "  --o-filtered-table table-BacArc_TL_EPA_LK.qza\n"
   ]
  },
  {
   "cell_type": "code",
   "execution_count": null,
   "metadata": {
    "button": false,
    "new_sheet": false,
    "run_control": {
     "read_only": false
    }
   },
   "outputs": [],
   "source": [
    "#Filter data by tissue, sediment, and water\n",
    "!qiime feature-table filter-samples \\\n",
    "  --i-table table-BacArc_TL_EPA_LK.qza \\\n",
    "  --p-no-exclude-ids \\\n",
    "  --p-where \"Type='Tissue'\" \\\n",
    "  --m-metadata-file metadata_TL16S.txt \\\n",
    "  --o-filtered-table table-BacArc_TL_T.qza\n",
    "\n",
    "!qiime feature-table filter-samples \\\n",
    "  --i-table  table-BacArc_TL_EPA_LK.qza \\\n",
    "  --p-no-exclude-ids \\\n",
    "  --p-where \"Type='Sediment'\" \\\n",
    "  --m-metadata-file metadata_TL16S.txt \\\n",
    "  --o-filtered-table table-BacArc_TL_S.qza\n",
    "\n",
    "!qiime feature-table filter-samples \\\n",
    "  --i-table  table-BacArc_TL_EPA_LK.qza \\\n",
    "  --p-no-exclude-ids \\\n",
    "  --p-where \"Type='Water'\" \\\n",
    "  --m-metadata-file metadata_TL16S.txt\\\n",
    "  --o-filtered-table table-BacArc_TL_W.qza\n",
    "\n",
    "\n"
   ]
  },
  {
   "cell_type": "code",
   "execution_count": null,
   "metadata": {
    "button": false,
    "new_sheet": false,
    "run_control": {
     "read_only": false
    }
   },
   "outputs": [],
   "source": [
    "#summarize data to view counts distribution\n",
    "!qiime feature-table summarize \\\n",
    "--i-table table-BacArc_TL_T.qza  \\\n",
    "--m-sample-metadata-file metadata_TL16S_qiime.txt  \\\n",
    "--o-visualization table-BacArc_TL_T.qzv\n",
    "\n",
    "!qiime feature-table summarize \\\n",
    "--i-table table-BacArc_TL_S.qza \\\n",
    "--m-sample-metadata-file metadata_TL16S.txt  \\\n",
    "--o-visualization table-BacArc_TL_S.qzv\n",
    "\n",
    "!qiime feature-table summarize \\\n",
    "--i-table  table-BacArc_TL_W.qza \\\n",
    "--m-sample-metadata-file metadata_TL16S.txt  \\\n",
    "--o-visualization table-BacArc_TL_W.qzv"
   ]
  },
  {
   "cell_type": "code",
   "execution_count": null,
   "metadata": {
    "button": false,
    "new_sheet": false,
    "run_control": {
     "read_only": false
    }
   },
   "outputs": [],
   "source": [
    "#Subset each coral species\n",
    "!qiime feature-table filter-samples \\\n",
    "--i-table table-BacArc_TL_T.qza \\\n",
    "--p-no-exclude-ids --p-where \"SpeciesCode='DLAB'\" \\\n",
    "--m-metadata-file metadata_TL16S.txt \\\n",
    "--o-filtered-table table-BacArc_TL_T_DLAB.qza\n",
    "\n",
    "\n",
    "!qiime feature-table filter-samples \\\n",
    "--i-table table-BacArc_TL_T.qza \\\n",
    "--p-no-exclude-ids --p-where \"SpeciesCode='DSTOK'\" \\\n",
    "--m-metadata-file metadata_TL16S.txt \\\n",
    "--o-filtered-table table-BacArc_TL_T_DSTOK.qza\n",
    "\n",
    "\n",
    "!qiime feature-table filter-samples \\\n",
    "--i-table table-BacArc_TL_T.qza \\\n",
    "--p-no-exclude-ids --p-where \"SpeciesCode='SINT'\" \\\n",
    "--m-metadata-file metadata_TL16S.txt \\\n",
    "--o-filtered-table table-BacArc_TL_T_SINT.qza\n",
    "\n",
    "\n",
    "!qiime feature-table filter-samples \\\n",
    "--i-table table-BacArc_TL_T.qza \\\n",
    "--p-no-exclude-ids --p-where \"SpeciesCode='MMEA'\" \\\n",
    "--m-metadata-file metadata_TL16S.txt \\\n",
    "--o-filtered-table table-BacArc_TL_T_MMEA.qza"
   ]
  },
  {
   "cell_type": "code",
   "execution_count": null,
   "metadata": {
    "button": false,
    "new_sheet": false,
    "run_control": {
     "read_only": false
    }
   },
   "outputs": [],
   "source": [
    "#filter ASV so that an ASV is found in at least 4 samples to reduce noise\n",
    "!qiime feature-table filter-features \\\n",
    "--i-table table-BacArc_TL_T_DLAB.qza \\\n",
    "--p-min-samples 4 \\\n",
    "--o-filtered-table table-BacArc_TL_T_DLAB4.qza\n",
    "\n",
    "!qiime feature-table filter-features \\\n",
    "--i-table table-BacArc_TL_T_DSTOK.qza \\\n",
    "--p-min-samples 4 \\\n",
    "--o-filtered-table table-BacArc_TL_T_DSTOK4.qza\n",
    "\n",
    "!qiime feature-table filter-features \\\n",
    "--i-table table-BacArc_TL_T_SINT.qza \\\n",
    "--p-min-samples 4 \\\n",
    "--o-filtered-table table-BacArc_TL_T_SINT4.qza\n",
    "\n",
    "!qiime feature-table filter-features \\\n",
    "--i-table table-BacArc_TL_T_MMEA.qza \\\n",
    "--p-min-samples 4 \\\n",
    "--o-filtered-table table-BacArc_TL_T_MMEA4.qza"
   ]
  },
  {
   "cell_type": "code",
   "execution_count": null,
   "metadata": {
    "button": false,
    "new_sheet": false,
    "run_control": {
     "read_only": false
    }
   },
   "outputs": [],
   "source": [
    "#filter ASV so that an ASV is found in at least 10 samples to reduce noise\n",
    "!qiime feature-table filter-features \\\n",
    "  --i-table table-BacArc_TL_S.qza \\\n",
    "  --p-min-samples 10 \\\n",
    "  --o-filtered-table table-BacArc_TL_SFill.qza \n",
    "\n",
    "!qiime feature-table filter-features \\\n",
    "  --i-table table-BacArc_TL_W.qza \\\n",
    "  --p-min-samples 10 \\\n",
    "  --o-filtered-table table-BacArc_TL_WFill.qza \n",
    "#summarize data to view counts distribution of filtered data\n",
    "!qiime feature-table summarize \\\n",
    "--i-table table-BacArc_TL_SFill.qza  \\\n",
    "--m-sample-metadata-file metadata_TL16S_qiime.txt \\\n",
    "--o-visualization table-BacArc_TL_SFill.qzv\n",
    "\n",
    "!qiime feature-table summarize \\\n",
    "--i-table table-BacArc_TL_WFill.qza  \\\n",
    "--m-sample-metadata-file metadata_TL16S_qiime.txt  \\\n",
    "--o-visualization table-BacArc_TL_WFill.qzv\n"
   ]
  },
  {
   "cell_type": "code",
   "execution_count": null,
   "metadata": {
    "button": false,
    "new_sheet": false,
    "run_control": {
     "read_only": false
    }
   },
   "outputs": [],
   "source": [
    "#summarize data to view counts distribution\n",
    "!qiime feature-table summarize \\\n",
    "--i-table table-BacArc_TL_T_DLAB4.qza  \\\n",
    "--m-sample-metadata-file metadata_TL16S_qiime.txt  \\\n",
    "--o-visualization table-BacArc_TL_T_DLAB4.qzv\n",
    "\n",
    "!qiime feature-table summarize \\\n",
    "--i-table table-BacArc_TL_T_DSTOK4.qza \\\n",
    "--m-sample-metadata-file metadata_TL16S.txt  \\\n",
    "--o-visualization table-BacArc_TL_T_DSTOK4.qzv\n",
    "\n",
    "!qiime feature-table summarize \\\n",
    "--i-table  table-BacArc_TL_T_SINT4.qza \\\n",
    "--m-sample-metadata-file metadata_TL16S.txt  \\\n",
    "--o-visualization table-BacArc_TL_T_SINT4.qzv\n",
    "\n",
    "\n",
    "!qiime feature-table summarize \\\n",
    "--i-table  table-BacArc_TL_T_MMEA4.qza \\\n",
    "--m-sample-metadata-file metadata_TL16S.txt  \\\n",
    "--o-visualization table-BacArc_TL_T_MMEA4.qzv"
   ]
  },
  {
   "cell_type": "code",
   "execution_count": null,
   "metadata": {
    "button": false,
    "new_sheet": false,
    "run_control": {
     "read_only": false
    }
   },
   "outputs": [],
   "source": [
    "#export data frames\n",
    "!qiime tools export --input-path table-BacArc_TL_T.qza --output-path export_TL_T\n",
    "!qiime tools export --input-path table-BacArc_TL_SFill.qza  --output-path export_TL_S\n",
    "!qiime tools export --input-path table-BacArc_TL_WFill.qza --output-path export_TL_W\n"
   ]
  },
  {
   "cell_type": "code",
   "execution_count": null,
   "metadata": {
    "button": false,
    "new_sheet": false,
    "run_control": {
     "read_only": false
    }
   },
   "outputs": [],
   "source": [
    "#convert biom file into text\n",
    "!biom  convert \\\n",
    "--input-fp export_TL_T/feature-table.biom \\\n",
    "--to-tsv \\\n",
    "-o export_TL_T/table-BacArc_TL_T.txt\n",
    "\n",
    "!biom  convert \\\n",
    "--input-fp export_TL_S/feature-table.biom \\\n",
    "--to-tsv \\\n",
    "-o export_TL_S/table-BacArc_TL_SFill.txt\n",
    "\n",
    "!biom  convert \\\n",
    "--input-fp export_TL_W/feature-table.biom \\\n",
    "--to-tsv \\\n",
    "-o export_TL_W/table-BacArc_TL_WFill.txt"
   ]
  },
  {
   "cell_type": "code",
   "execution_count": null,
   "metadata": {
    "button": false,
    "new_sheet": false,
    "run_control": {
     "read_only": false
    }
   },
   "outputs": [],
   "source": [
    "#export data frames\n",
    "!qiime tools export --input-path table-BacArc_TL_T_DLAB4.qza --output-path export_TL_T_DLAB\n",
    "!qiime tools export --input-path table-BacArc_TL_T_DSTOK4.qza  --output-path export_TL_DSTOK\n",
    "!qiime tools export --input-path table-BacArc_TL_T_SINT.qza --output-path export_TL_SINT\n",
    "!qiime tools export --input-path table-BacArc_TL_T_MMEA4.qza --output-path export_TL_MMEA"
   ]
  },
  {
   "cell_type": "code",
   "execution_count": null,
   "metadata": {
    "button": false,
    "new_sheet": false,
    "run_control": {
     "read_only": false
    }
   },
   "outputs": [],
   "source": [
    "#convert biom file into text\n",
    "!biom  convert \\\n",
    "--input-fp export_TL_T_DLAB/feature-table.biom \\\n",
    "--to-tsv \\\n",
    "-o export_TL_T_DLAB/table-BacArc_TL_DLAB.txt\n",
    "\n",
    "!biom  convert \\\n",
    "--input-fp export_TL_DSTOK/feature-table.biom \\\n",
    "--to-tsv \\\n",
    "-o export_TL_DSTOK/table-BacArc_TL_DSTOK.txt\n",
    "\n",
    "!biom  convert \\\n",
    "--input-fp export_TL_SINT/feature-table.biom \\\n",
    "--to-tsv \\\n",
    "-o export_TL_SINT/table-BacArc_TL_SINT.txt\n",
    "\n",
    "!biom  convert \\\n",
    "--input-fp export_TL_MMEA/feature-table.biom \\\n",
    "--to-tsv \\\n",
    "-o export_TL_MMEA/table-BacArc_TL_MMEA.txt"
   ]
  },
  {
   "cell_type": "code",
   "execution_count": null,
   "metadata": {
    "button": false,
    "new_sheet": false,
    "run_control": {
     "read_only": false
    }
   },
   "outputs": [],
   "source": [
    "#subset samples with a healthy condition per coral species\n",
    "!qiime feature-table filter-samples \\\n",
    "--i-table table-BacArc_TL_T_DLAB.qza \\\n",
    "--p-no-exclude-ids --p-where \"Condition='AH'\" \\\n",
    "--m-metadata-file metadata_TL16S.txt \\\n",
    "--o-filtered-table table-BacArc_TL_T_DLAB_AH.qza\n",
    "\n",
    "!qiime feature-table filter-samples \\\n",
    "--i-table table-BacArc_TL_T_DSTOK.qza \\\n",
    "--p-no-exclude-ids --p-where \"Condition='AH'\" \\\n",
    "--m-metadata-file metadata_TL16S.txt \\\n",
    "--o-filtered-table table-BacArc_TL_T_DSTOK_AH.qza\n",
    "\n",
    "!qiime feature-table filter-samples \\\n",
    "--i-table table-BacArc_TL_T_SINT.qza \\\n",
    "--p-no-exclude-ids --p-where \"Condition='AH'\" \\\n",
    "--m-metadata-file metadata_TL16S.txt \\\n",
    "--o-filtered-table table-BacArc_TL_T_SINT_AH.qza\n"
   ]
  },
  {
   "cell_type": "code",
   "execution_count": null,
   "metadata": {
    "button": false,
    "new_sheet": false,
    "run_control": {
     "read_only": false
    }
   },
   "outputs": [],
   "source": [
    "#filter ASV so that an ASV is found in at least 4 samples to reduce noise\n",
    "!qiime feature-table filter-features \\\n",
    "--i-table table-BacArc_TL_T_DLAB_AH.qza \\\n",
    "--p-min-samples 4 \\\n",
    "--o-filtered-table table-BacArc_TL_T_DLAB4_AH.qza\n",
    "\n",
    "!qiime feature-table filter-features \\\n",
    "--i-table table-BacArc_TL_T_DSTOK_AH.qza \\\n",
    "--p-min-samples 4 \\\n",
    "--o-filtered-table table-BacArc_TL_T_DSTOK4_AH.qza\n",
    "\n",
    "!qiime feature-table filter-features \\\n",
    "--i-table table-BacArc_TL_T_SINT_AH.qza \\\n",
    "--p-min-samples 4 \\\n",
    "--o-filtered-table table-BacArc_TL_T_SINT4_AH.qza"
   ]
  },
  {
   "cell_type": "code",
   "execution_count": null,
   "metadata": {
    "button": false,
    "new_sheet": false,
    "run_control": {
     "read_only": false
    }
   },
   "outputs": [],
   "source": [
    "#summarize data to view counts distribution\n",
    "!qiime feature-table summarize \\\n",
    "--i-table table-BacArc_TL_T_DLAB4_AH.qza  \\\n",
    "--m-sample-metadata-file metadata_TL16S_qiime.txt  \\\n",
    "--o-visualization table-BacArc_TL_T_DLAB4_AH.qzv\n",
    "\n",
    "!qiime feature-table summarize \\\n",
    "--i-table table-BacArc_TL_T_DSTOK4_AH.qza \\\n",
    "--m-sample-metadata-file metadata_TL16S.txt  \\\n",
    "--o-visualization table-BacArc_TL_T_DSTOK4_AH.qzv\n",
    "\n",
    "!qiime feature-table summarize \\\n",
    "--i-table  table-BacArc_TL_T_SINT4_AH.qza \\\n",
    "--m-sample-metadata-file metadata_TL16S.txt  \\\n",
    "--o-visualization table-BacArc_TL_T_SINT4_AH.qzv"
   ]
  },
  {
   "cell_type": "code",
   "execution_count": null,
   "metadata": {
    "button": false,
    "new_sheet": false,
    "run_control": {
     "read_only": false
    }
   },
   "outputs": [],
   "source": [
    "\n",
    "!qiime tools export --input-path table-BacArc_TL_T_DLAB4_AH.qza --output-path export_TL_DLAB_AH\n",
    "!qiime tools export --input-path table-BacArc_TL_T_DSTOK4_AH.qza  --output-path export_TL_DSTOK_AH\n",
    "!qiime tools export --input-path table-BacArc_TL_T_SINT4_AH.qza --output-path export_TL_SINT_AH\n"
   ]
  },
  {
   "cell_type": "code",
   "execution_count": null,
   "metadata": {
    "button": false,
    "new_sheet": false,
    "run_control": {
     "read_only": false
    }
   },
   "outputs": [],
   "source": [
    "#convert biom file into text\n",
    "!biom  convert \\\n",
    "--input-fp export_TL_DLAB_AH/feature-table.biom \\\n",
    "--to-tsv \\\n",
    "-o export_TL_DLAB_AH/table-BacArc_TL_DLAB_AH.txt\n",
    "\n",
    "!biom  convert \\\n",
    "--input-fp export_TL_DSTOK_AH/feature-table.biom \\\n",
    "--to-tsv \\\n",
    "-o export_TL_DSTOK_AH//table-BacArc_TL_DSTOK_AH.txt\n",
    "\n",
    "!biom  convert \\\n",
    "--input-fp export_TL_SINT_AH/feature-table.biom \\\n",
    "--to-tsv \\\n",
    "-o export_TL_SINT_AH/table-BacArc_TL_SINT_AH.txt\n"
   ]
  },
  {
   "cell_type": "code",
   "execution_count": null,
   "metadata": {
    "button": false,
    "new_sheet": false,
    "run_control": {
     "read_only": false
    }
   },
   "outputs": [],
   "source": [
    "#seperate water samples from the original EPA samples\n",
    "!qiime feature-table filter-samples --i-table table-BacArc_TL_WFill.qza --p-no-exclude-ids --p-where \"Experiment='original'\" --m-metadata-file /Users/stephanie.rosales/Documents/Tissueloss/TL_16S_data/metadata_TL16S.txt --o-filtered-table table-BacArc_TL_WFillOR.qza\n",
    "!qiime feature-table filter-samples --i-table table-BacArc_TL_WFill.qza --p-no-exclude-ids --p-where \"Experiment='oppurtunistic'\" --m-metadata-file /Users/stephanie.rosales/Documents/Tissueloss/TL_16S_data/metadata_TL16S.txt --o-filtered-table table-BacArc_TL_WFillOP.qza\n",
    "\n",
    "!qiime feature-table summarize \\\n",
    "--i-table table-BacArc_TL_WFillOR.qza \\\n",
    "--m-sample-metadata-file /Users/stephanie.rosales/Documents/Tissueloss/TL_16S_data/metadata_TL16S.txt  \\\n",
    "--o-visualization table-BacArc_TL_WFillOR.qzv"
   ]
  },
  {
   "cell_type": "code",
   "execution_count": null,
   "metadata": {
    "button": false,
    "new_sheet": false,
    "run_control": {
     "read_only": false
    }
   },
   "outputs": [],
   "source": [
    "#ANCOM for sediment samples\n",
    "#sediment at asv level\n",
    "!qiime composition add-pseudocount \\\n",
    "--i-table table-BacArc_TL_SFill.qza \\\n",
    "--o-composition-table comp-BacArc_TL_SFill.qza \\\n",
    "--p-pseudocount 1\n",
    "#now run ANCOM\n",
    "!qiime composition ancom \\\n",
    "  --i-table comp-BacArc_TL_SFill.qza \\\n",
    "  --m-metadata-file metadata_TL16S.txt \\\n",
    "  --m-metadata-column Zone \\\n",
    "  --o-visualization ancom-BacArc_TL_SFill.qzv"
   ]
  },
  {
   "cell_type": "code",
   "execution_count": null,
   "metadata": {
    "button": false,
    "new_sheet": false,
    "run_control": {
     "read_only": false
    }
   },
   "outputs": [],
   "source": [
    "#ANCOM for water samples\n",
    "#water at asv level\n",
    "!qiime composition add-pseudocount \\\n",
    "--i-table table-BacArc_TL_WFill.qza\\\n",
    "--o-composition-table comp-BacArc_TL_WFill.qza \\\n",
    "--p-pseudocount 1\n",
    "#now run ANCOM\n",
    "!qiime composition ancom \\\n",
    "  --i-table comp-BacArc_TL_WFill.qza \\\n",
    "  --m-metadata-file metadata_TL16S.txt \\\n",
    "  --m-metadata-column SiteStatus \\\n",
    "  --o-visualization ancom-BacArc_TL_WFill.qza \n",
    "\n"
   ]
  },
  {
   "cell_type": "code",
   "execution_count": null,
   "metadata": {
    "button": false,
    "new_sheet": false,
    "run_control": {
     "read_only": false
    }
   },
   "outputs": [],
   "source": [
    "#ANCOM for all water samples\n",
    "#water at asv level\n",
    "!qiime composition add-pseudocount \\\n",
    "--i-table table-BacArc_TL_WFillOR.qza\\\n",
    "--o-composition-table comp-BacArc_TL_WFillOR.qza \\\n",
    "--p-pseudocount 1\n",
    "#now run ANCOM\n",
    "!qiime composition ancom \\\n",
    "  --i-table comp-BacArc_TL_WFillOR.qza \\\n",
    "  --m-metadata-file metadata_TL16S.txt \\\n",
    "  --m-metadata-column SiteStatus \\\n",
    "  --o-visualization ancom-BacArc_TL_WFillOR.qza "
   ]
  },
  {
   "cell_type": "code",
   "execution_count": null,
   "metadata": {
    "button": false,
    "new_sheet": false,
    "run_control": {
     "read_only": false
    }
   },
   "outputs": [],
   "source": [
    "#Subset each coral species\n",
    "!qiime feature-table filter-samples \\\n",
    "--i-table table-BacArc_TL_T.qza \\\n",
    "--p-no-exclude-ids --p-where \"SpeciesCode='DLAB'\" \\\n",
    "--m-metadata-file metadata_TL16S.txt \\\n",
    "--o-filtered-table table-BacArc_TL_T_DLAB.qza\n",
    "\n",
    "\n",
    "!qiime feature-table filter-samples \\\n",
    "--i-table table-BacArc_TL_T.qza \\\n",
    "--p-no-exclude-ids --p-where \"SpeciesCode='DSTOK'\" \\\n",
    "--m-metadata-file metadata_TL16S.txt \\\n",
    "--o-filtered-table table-BacArc_TL_T_DSTOK.qza\n",
    "\n",
    "\n",
    "!qiime feature-table filter-samples \\\n",
    "--i-table table-BacArc_TL_T.qza \\\n",
    "--p-no-exclude-ids --p-where \"SpeciesCode='SINT'\" \\\n",
    "--m-metadata-file metadata_TL16S.txt \\\n",
    "--o-filtered-table table-BacArc_TL_T_SINT.qza\n",
    "\n",
    "\n",
    "!qiime feature-table filter-samples \\\n",
    "--i-table table-BacArc_TL_T.qza \\\n",
    "--p-no-exclude-ids --p-where \"SpeciesCode='MMEA'\" \\\n",
    "--m-metadata-file metadata_TL16S.txt \\\n",
    "--o-filtered-table table-BacArc_TL_T_MMEA.qza"
   ]
  },
  {
   "cell_type": "code",
   "execution_count": null,
   "metadata": {
    "button": false,
    "new_sheet": false,
    "run_control": {
     "read_only": false
    }
   },
   "outputs": [],
   "source": [
    "#filter ASV so that an ASV is found in at least 4 samples to reduce noise\n",
    "!qiime feature-table filter-features \\\n",
    "--i-table table-BacArc_TL_T_DLAB.qza \\\n",
    "--p-min-samples 4 \\\n",
    "--o-filtered-table table-BacArc_TL_T_DLAB4.qza\n",
    "\n",
    "!qiime feature-table filter-features \\\n",
    "--i-table table-BacArc_TL_T_DSTOK.qza \\\n",
    "--p-min-samples 4 \\\n",
    "--o-filtered-table table-BacArc_TL_T_DSTOK4.qza\n",
    "\n",
    "!qiime feature-table filter-features \\\n",
    "--i-table table-BacArc_TL_T_SINT.qza \\\n",
    "--p-min-samples 4 \\\n",
    "--o-filtered-table table-BacArc_TL_T_SINT4.qza\n",
    "\n",
    "!qiime feature-table filter-features \\\n",
    "--i-table table-BacArc_TL_T_MMEA.qza \\\n",
    "--p-min-samples 4 \\\n",
    "--o-filtered-table table-BacArc_TL_T_MMEA4.qza"
   ]
  },
  {
   "cell_type": "code",
   "execution_count": null,
   "metadata": {
    "button": false,
    "new_sheet": false,
    "run_control": {
     "read_only": false
    }
   },
   "outputs": [],
   "source": [
    "#subset samples with a healthy condition per coral species\n",
    "!qiime feature-table filter-samples \\\n",
    "--i-table table-BacArc_TL_T_DLAB.qza \\\n",
    "--p-no-exclude-ids --p-where \"Condition='AH'\" \\\n",
    "--m-metadata-file metadata_TL16S.txt \\\n",
    "--o-filtered-table table-BacArc_TL_T_DLAB_AH.qza\n",
    "\n",
    "!qiime feature-table filter-samples \\\n",
    "--i-table table-BacArc_TL_T_DSTOK.qza \\\n",
    "--p-no-exclude-ids --p-where \"Condition='AH'\" \\\n",
    "--m-metadata-file metadata_TL16S.txt \\\n",
    "--o-filtered-table table-BacArc_TL_T_DSTOK_AH.qza\n",
    "\n",
    "!qiime feature-table filter-samples \\\n",
    "--i-table table-BacArc_TL_T_SINT.qza \\\n",
    "--p-no-exclude-ids --p-where \"Condition='AH'\" \\\n",
    "--m-metadata-file metadata_TL16S.txt \\\n",
    "--o-filtered-table table-BacArc_TL_T_SINT_AH.qza\n",
    "\n",
    "\n"
   ]
  },
  {
   "cell_type": "code",
   "execution_count": null,
   "metadata": {},
   "outputs": [],
   "source": [
    "## Test differental abundance for coral conditionS (VuAH, EnAH, EpAH, EpDU,EPDL) per species\n",
    "#Tissue -ASV level\n",
    "!qiime composition add-pseudocount \\\n",
    "--i-table table-BacArc_TL_T_DLAB4.qza \\\n",
    "--o-composition-table comp-BacArc_TL_T_DLAB4_CONS.qza \\\n",
    "--p-pseudocount 1\n",
    "#now run ANCOM\n",
    "!qiime composition ancom \\\n",
    "  --i-table comp-BacArc_TL_T_DLAB4_CONS.qza  \\\n",
    "  --m-metadata-file metadata_TL16S.txt \\\n",
    "  --m-metadata-column Conditions \\\n",
    "  --o-visualization ancom-BacArc_TL_T_DLAB4_CONS.qzv \n",
    "\n",
    "## original condition  per species\n",
    "#Tissue -OTU level\n",
    "!qiime composition add-pseudocount \\\n",
    "--i-table table-BacArc_TL_T_DSTOK4.qza \\\n",
    "--o-composition-table comp-BacArc_TL_T_DSTOK4_CONS.qza \\\n",
    "--p-pseudocount 1\n",
    "#now run ANCOM\n",
    "!qiime composition ancom \\\n",
    "  --i-table comp-BacArc_TL_T_DSTOK4_CONS.qza  \\\n",
    "  --m-metadata-file metadata_TL16S.txt \\\n",
    "  --m-metadata-column Conditions \\\n",
    "  --o-visualization ancom-BacArc_TL_T_DSTOK4_CONS.qzv \n",
    "\n",
    "## original condition  per species\n",
    "#Tissue -OTU level\n",
    "!qiime composition add-pseudocount \\\n",
    "--i-table table-BacArc_TL_T_SINT4.qza \\\n",
    "--o-composition-table comp-BacArc_TL_T_SINT4_CONS.qza \\\n",
    "--p-pseudocount 1\n",
    "#now run ANCOM\n",
    "!qiime composition ancom \\\n",
    "  --i-table comp-BacArc_TL_T_SINT4_CONS.qza  \\\n",
    "  --m-metadata-file metadata_TL16S.txt \\\n",
    "  --m-metadata-column Conditions \\\n",
    "  --o-visualization ancom-BacArc_TL_T_SINT4_CONS.qzv "
   ]
  },
  {
   "cell_type": "code",
   "execution_count": null,
   "metadata": {
    "button": false,
    "new_sheet": false,
    "run_control": {
     "read_only": false
    }
   },
   "outputs": [],
   "source": [
    "## Test DA for AH  per species to test differences per zone\n",
    "#Tissue -OTU level\n",
    "!qiime composition add-pseudocount \\\n",
    "--i-table table-BacArc_TL_T_DLAB4_AH.qza \\\n",
    "--o-composition-table comp-BacArc_TL_T_DLAB4_AH.qza \\\n",
    "--p-pseudocount 1\n",
    "#now run ANCOM\n",
    "!qiime composition ancom \\\n",
    "  --i-table comp-BacArc_TL_T_DLAB4_AH.qza  \\\n",
    "  --m-metadata-file /Users/stephanie.rosales/Documents/Tissueloss/TL_16S_data/metadata_TL16S.txt \\\n",
    "  --m-metadata-column Zone \\\n",
    "  --o-visualization ancom-BacArc_TL_T_DLAB4_AH.qzv \n",
    "\n",
    "## original AH  per species\n",
    "#Tissue -OTU level\n",
    "!qiime composition add-pseudocount \\\n",
    "--i-table table-BacArc_TL_T_DSTOK4.qza \\\n",
    "--o-composition-table comp-BacArc_TL_T_DSTOK4_AH.qza \\\n",
    "--p-pseudocount 1\n",
    "#now run ANCOM\n",
    "!qiime composition ancom \\\n",
    "  --i-table comp-BacArc_TL_T_DSTOK4_AH.qza  \\\n",
    "  --m-metadata-file /Users/stephanie.rosales/Documents/Tissueloss/TL_16S_data/metadata_TL16S.txt \\\n",
    "  --m-metadata-column Zone \\\n",
    "  --o-visualization ancom-BacArc_TL_T_DSTOK4_AH.qzv \n",
    "\n",
    "\n",
    "!qiime composition add-pseudocount \\\n",
    "--i-table table-BacArc_TL_T_SINT4_AH.qza \\\n",
    "--o-composition-table comp-BacArc_TL_T_SINT4_AH.qza \\\n",
    "--p-pseudocount 1\n",
    "#now run ANCOM\n",
    "!qiime composition ancom \\\n",
    "  --i-table comp-BacArc_TL_T_SINT4_AH.qza  \\\n",
    "  --m-metadata-file /Users/stephanie.rosales/Documents/Tissueloss/TL_16S_data/metadata_TL16S.txt \\\n",
    "  --m-metadata-column Zone \\\n",
    "  --o-visualization ancom-BacArc_TL_T_SINT4_AH.qzv "
   ]
  },
  {
   "cell_type": "code",
   "execution_count": null,
   "metadata": {
    "button": false,
    "new_sheet": false,
    "run_control": {
     "read_only": false
    }
   },
   "outputs": [],
   "source": [
    "\n",
    "import pandas as pd\n",
    "from functools import reduce\n",
    "\n",
    "#import Ancom results\n",
    "df1= pd.read_table(\"exported_TL/feature-table.tsv\", sep='\\t')\n",
    "df2= pd.read_table(\"exported_TL/taxonomy.tsv\", sep='\\t', \n",
    "names = [\"ASV\",\"Kingdom\", \"Phylum\", \"Class\", \"Order\", \"Family\", \"Genus\", \"Species\"])\n",
    "#have to cd into directory\n",
    "  \n",
    "\n"
   ]
  },
  {
   "cell_type": "code",
   "execution_count": null,
   "metadata": {
    "button": false,
    "new_sheet": false,
    "run_control": {
     "read_only": false
    }
   },
   "outputs": [],
   "source": [
    "#to select taxa and counts from significant ASVs\n",
    "import os\n",
    "directory ='/Ancom_results/'\n",
    "suffix = \"tsv\";\n",
    "for filename in os.listdir(directory):\n",
    "    if filename.endswith(suffix):\n",
    "        f = open(filename)\n",
    "        df_AN= pd.read_table(f, sep='\\t', names = [\"ASV\", \"hypothesis\", \"W\"])\n",
    "        dfs = [df_AN, df1, df2]\n",
    "        df_final_AN = reduce(lambda left,right: pd.merge(left,right,on='ASV'), dfs)\n",
    "        df_tax = df_final_AN.loc[ :, [\"ASV\",\"Kingdom\", \"Phylum\", \"Class\", \"Order\",\"Family\", \"Genus\", \"Species\"]]\n",
    "        df_ASV = df_final_AN.drop([\"hypothesis\",\"W\",\"Kingdom\", \"Phylum\", \"Class\", \"Order\",\"Family\", \"Genus\", \"Species\"], axis=1)\n",
    "    df_tax.to_csv(\"tax\"+ \"_\" + filename, sep=\"\\t\", index=False)\n",
    "    df_ASV.to_csv(\"ASV\"+ \"_\" + filename, sep=\"\\t\", index=False)\n",
    "    "
   ]
  },
  {
   "cell_type": "code",
   "execution_count": null,
   "metadata": {
    "button": false,
    "new_sheet": false,
    "run_control": {
     "read_only": false
    }
   },
   "outputs": [],
   "source": [
    "#subset_AH_DL\n",
    "\n",
    "!qiime feature-table filter-samples \\\n",
    "--i-table table-BacArc_TL_T.qza \\\n",
    "--p-no-exclude-ids \\\n",
    "--p-where \"AHDL='DLvsAHVu'\" \\\n",
    "--m-metadata-file metadata_TL16S.txt \\\n",
    "--o-filtered-table table-BacArc_TL_T_Select.qza\n",
    "\n",
    "#filter ASV so that an ASV is found in at least 4 samples to reduce noise\n",
    "!qiime feature-table filter-features \\\n",
    "--i-table table-BacArc_TL_T_Select.qza \\\n",
    "--p-min-samples 10 \\\n",
    "--o-filtered-table table-BacArc_TL_T_Select10.qza\n",
    "\n",
    "\n",
    "!qiime feature-table summarize \\\n",
    "--i-table  table-BacArc_TL_T_Select.qza \\\n",
    "--m-sample-metadata-file metadata_TL16S.txt  \\\n",
    "--o-visualization table-BacArc_TL_T_Select.qzv\n"
   ]
  },
  {
   "cell_type": "code",
   "execution_count": null,
   "metadata": {
    "button": false,
    "new_sheet": false,
    "run_control": {
     "read_only": false
    }
   },
   "outputs": [],
   "source": [
    "#run rf\n",
    "!qiime sample-classifier classify-samples \\\n",
    " --i-table table-BacArc_TL_T_Select.qza \\\n",
    "  --m-metadata-file metadata_TL16S.txt \\\n",
    "  --m-metadata-column Condition \\\n",
    "  --p-optimize-feature-selection \\\n",
    "  --p-cv 5 \\\n",
    "  --p-parameter-tuning \\\n",
    "  --p-estimator RandomForestClassifier \\\n",
    "  --p-test-size 0.3 \\\n",
    "  --p-n-estimators 500 \\\n",
    "   --output-dir RF-500-BacArc_TLT \\\n",
    "  --o-sample-estimator RF-500-BacArc_TLT/estimate_RF-500-BacArc_TLT \\\n",
    "  --o-feature-importance RF-500-BacArc_TLT/feature-RF-500-BacArc_TLT \\\n",
    "  --o-predictions RF-500-BacArc_TLT/predict-RF-500-BacArc_TLT \\\n",
    "  --o-model-summary RF-500-BacArc_TLT/model-RF-650-BacArc_TLT \\\n",
    "  --o-accuracy-results RF-500-BacArc_TLT/accuracy-RF-500-BacArc_TLT "
   ]
  },
  {
   "cell_type": "code",
   "execution_count": null,
   "metadata": {
    "button": false,
    "new_sheet": false,
    "run_control": {
     "read_only": false
    }
   },
   "outputs": [],
   "source": [
    "#cd into working directory \n",
    "df1= pd.read_table(\"exported_TL/feature-table.tsv\", sep='\\t')\n",
    "df3= pd.read_table(\"importance.tsv\", \n",
    "                   sep='\\t')\n",
    "#combine RF results and taxa\n",
    "dfs = [df3, df1]\n",
    "df_final_RF = reduce(lambda left,right: pd.merge(left,right,on='ASV'), dfs)\n",
    "df_final_RF.to_csv(\"importance_ASV.tsv\",\n",
    "                   sep=\"\\t\", index=False)\n",
    "df2= pd.read_table(\"exported_TL/taxonomy.tsv\", sep='\\t', \n",
    "names = [\"ASV\",\"Kingdom\", \"Phylum\", \"Class\", \"Order\", \"Family\", \"Genus\", \"Species\", \"label\", \"asv\"])\n",
    "\n",
    "dfs_tax = [df3, df2]\n",
    "df_final_RF_tax = reduce(lambda left,right: pd.merge(left,right,on='ASV'), dfs_tax )\n",
    "\n",
    "df_final_RF_tax.to_csv(\"importance_tax.tsv\",\n",
    "                   sep=\"\\t\", index=False)"
   ]
  }
 ],
 "metadata": {
  "kernelspec": {
   "display_name": "Python 3",
   "language": "python",
   "name": "python3"
  },
  "language_info": {
   "codemirror_mode": {
    "name": "ipython",
    "version": 3
   },
   "file_extension": ".py",
   "mimetype": "text/x-python",
   "name": "python",
   "nbconvert_exporter": "python",
   "pygments_lexer": "ipython3",
   "version": "3.5.5"
  }
 },
 "nbformat": 4,
 "nbformat_minor": 2
}
